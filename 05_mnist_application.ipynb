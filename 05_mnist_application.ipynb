{
  "nbformat": 4,
  "nbformat_minor": 0,
  "metadata": {
    "colab": {
      "name": "05-mnist-application.ipynb",
      "provenance": [],
      "collapsed_sections": [],
      "include_colab_link": true
    },
    "kernelspec": {
      "name": "python3",
      "display_name": "Python 3"
    }
  },
  "cells": [
    {
      "cell_type": "markdown",
      "metadata": {
        "id": "view-in-github",
        "colab_type": "text"
      },
      "source": [
        "<a href=\"https://colab.research.google.com/github/GeunheeHan/2020-2-AI/blob/main/05_mnist_application.ipynb\" target=\"_parent\"><img src=\"https://colab.research.google.com/assets/colab-badge.svg\" alt=\"Open In Colab\"/></a>"
      ]
    },
    {
      "cell_type": "code",
      "metadata": {
        "id": "rZT5Gi8WJ6IO"
      },
      "source": [
        "import tensorflow as tf"
      ],
      "execution_count": 3,
      "outputs": []
    },
    {
      "cell_type": "code",
      "metadata": {
        "id": "uNZ9KUl6Kb2k"
      },
      "source": [
        "#mnist 모듈 준비\n",
        "mnist = tf.keras.datasets.mnist"
      ],
      "execution_count": 4,
      "outputs": []
    },
    {
      "cell_type": "code",
      "metadata": {
        "id": "ZPQJh5ikKkNG",
        "colab": {
          "base_uri": "https://localhost:8080/"
        },
        "outputId": "b195efed-72ca-4c84-9d06-8549a2006075"
      },
      "source": [
        "#mnist 데이터셋을 훈련과 테스트 데이터로 로드하여 준비\n",
        "(x_train, y_train),(x_test, y_test) = mnist.load_data()"
      ],
      "execution_count": 5,
      "outputs": [
        {
          "output_type": "stream",
          "text": [
            "Downloading data from https://storage.googleapis.com/tensorflow/tf-keras-datasets/mnist.npz\n",
            "11493376/11490434 [==============================] - 0s 0us/step\n"
          ],
          "name": "stdout"
        }
      ]
    },
    {
      "cell_type": "code",
      "metadata": {
        "id": "0HPhQttNKw04"
      },
      "source": [
        "#샘플 값을 정수 (0~255)에서 부동소수 (0~1)로 변환\n",
        "(x_train, x_test) = x_train / 255.0, x_test / 255.0"
      ],
      "execution_count": 6,
      "outputs": []
    },
    {
      "cell_type": "code",
      "metadata": {
        "id": "XjiJVNxDLUZR"
      },
      "source": [
        "#층을 차례대로 쌓아 tf.keras.Sequential 모델을 생성 // 활성화 함수 softmax()\n",
        "model = tf.keras.models.Sequential([\n",
        "                                    tf.keras.layers.Flatten(input_shape=(28,28)),\n",
        "                                    tf.keras.layers.Dense(128, activation='relu'),\n",
        "                                    tf.keras.layers.Dropout(.2),\n",
        "                                    tf.keras.layers.Dense(10, activation='softmax')\n",
        "])"
      ],
      "execution_count": 7,
      "outputs": []
    },
    {
      "cell_type": "code",
      "metadata": {
        "id": "oeJ04K2lL6kK"
      },
      "source": [
        "#훈련에 사용할 옵티마이저 와 손실 함수, 출력 정보 선택\n",
        "model.compile(optimizer='adam',\n",
        "              loss='sparse_categorical_crossentropy',\n",
        "              metrics=['accuracy'])"
      ],
      "execution_count": 8,
      "outputs": []
    },
    {
      "cell_type": "code",
      "metadata": {
        "id": "02ZsG9FHMMpL",
        "colab": {
          "base_uri": "https://localhost:8080/"
        },
        "outputId": "231f96f9-bceb-4725-82f3-eb2cede2d28e"
      },
      "source": [
        "#모델 요약 포시\n",
        "model.summary()"
      ],
      "execution_count": 9,
      "outputs": [
        {
          "output_type": "stream",
          "text": [
            "Model: \"sequential\"\n",
            "_________________________________________________________________\n",
            "Layer (type)                 Output Shape              Param #   \n",
            "=================================================================\n",
            "flatten (Flatten)            (None, 784)               0         \n",
            "_________________________________________________________________\n",
            "dense (Dense)                (None, 128)               100480    \n",
            "_________________________________________________________________\n",
            "dropout (Dropout)            (None, 128)               0         \n",
            "_________________________________________________________________\n",
            "dense_1 (Dense)              (None, 10)                1290      \n",
            "=================================================================\n",
            "Total params: 101,770\n",
            "Trainable params: 101,770\n",
            "Non-trainable params: 0\n",
            "_________________________________________________________________\n"
          ],
          "name": "stdout"
        }
      ]
    },
    {
      "cell_type": "code",
      "metadata": {
        "id": "_cObDLjWMP_C",
        "colab": {
          "base_uri": "https://localhost:8080/"
        },
        "outputId": "e8e50af7-d5a1-403b-9eaf-98160332a607"
      },
      "source": [
        "#모델을 훈련 데이터로 총 5번 훈련\n",
        "model.fit(x_train, y_train, epochs=5)"
      ],
      "execution_count": 10,
      "outputs": [
        {
          "output_type": "stream",
          "text": [
            "Epoch 1/5\n",
            "1875/1875 [==============================] - 3s 2ms/step - loss: 0.2923 - accuracy: 0.9144\n",
            "Epoch 2/5\n",
            "1875/1875 [==============================] - 3s 2ms/step - loss: 0.1403 - accuracy: 0.9588\n",
            "Epoch 3/5\n",
            "1875/1875 [==============================] - 3s 2ms/step - loss: 0.1064 - accuracy: 0.9672\n",
            "Epoch 4/5\n",
            "1875/1875 [==============================] - 3s 2ms/step - loss: 0.0869 - accuracy: 0.9723\n",
            "Epoch 5/5\n",
            "1875/1875 [==============================] - 3s 2ms/step - loss: 0.0736 - accuracy: 0.9775\n"
          ],
          "name": "stdout"
        },
        {
          "output_type": "execute_result",
          "data": {
            "text/plain": [
              "<tensorflow.python.keras.callbacks.History at 0x7f566c109f98>"
            ]
          },
          "metadata": {
            "tags": []
          },
          "execution_count": 10
        }
      ]
    },
    {
      "cell_type": "code",
      "metadata": {
        "id": "LL1n4skfMYjf",
        "colab": {
          "base_uri": "https://localhost:8080/"
        },
        "outputId": "679097a9-de03-446a-f22b-1fb1dcaf7cdc"
      },
      "source": [
        "#모델을 테스트 데이터로 평가\n",
        "model.evaluate(x_test,y_test)"
      ],
      "execution_count": 11,
      "outputs": [
        {
          "output_type": "stream",
          "text": [
            "313/313 [==============================] - 0s 1ms/step - loss: 0.0768 - accuracy: 0.9770\n"
          ],
          "name": "stdout"
        },
        {
          "output_type": "execute_result",
          "data": {
            "text/plain": [
              "[0.0768360123038292, 0.9769999980926514]"
            ]
          },
          "metadata": {
            "tags": []
          },
          "execution_count": 11
        }
      ]
    },
    {
      "cell_type": "markdown",
      "metadata": {
        "id": "bRIlEFMYMvQw"
      },
      "source": [
        "#테스트 데이터의 텃번째 손글씨 예측 결과 확인\n",
        "\n",
        "model.predict(input)\n"
      ]
    },
    {
      "cell_type": "code",
      "metadata": {
        "id": "Dhs8GL3mMgmt",
        "colab": {
          "base_uri": "https://localhost:8080/"
        },
        "outputId": "7550f8a4-721e-4a7f-aa36-7e8b0f777266"
      },
      "source": [
        "#테스트 데이터의 텃번째 손글씨 예측 결과 확인\n",
        "print(x_test[:1].shape)\n",
        "\n",
        "pred_result = model.predict(x_test[:1])\n",
        "print(pred_result.shape)\n",
        "print(pred_result)\n",
        "print(pred_result[0])"
      ],
      "execution_count": 12,
      "outputs": [
        {
          "output_type": "stream",
          "text": [
            "(1, 28, 28)\n",
            "(1, 10)\n",
            "[[1.18029405e-07 3.23097531e-08 8.95617177e-06 6.75962583e-05\n",
            "  3.70422486e-12 6.72082976e-08 5.24757863e-13 9.99917388e-01\n",
            "  1.55914677e-06 4.32422348e-06]]\n",
            "[1.18029405e-07 3.23097531e-08 8.95617177e-06 6.75962583e-05\n",
            " 3.70422486e-12 6.72082976e-08 5.24757863e-13 9.99917388e-01\n",
            " 1.55914677e-06 4.32422348e-06]\n"
          ],
          "name": "stdout"
        }
      ]
    },
    {
      "cell_type": "code",
      "metadata": {
        "id": "2AZEPvE8NrlU",
        "colab": {
          "base_uri": "https://localhost:8080/"
        },
        "outputId": "0d6f3013-c3de-4183-8bdf-15c72c3b7a43"
      },
      "source": [
        "import numpy as np\n",
        "\n",
        "#10개의 수를 더하며?\n",
        "one_pred=pred_result[0]\n",
        "print(one_pred.sum())\n",
        "\n",
        "#혹시 가장 큰수가 있는 첨자가 결과\n",
        "one = np.argmax(one_pred)\n",
        "print(one)"
      ],
      "execution_count": 13,
      "outputs": [
        {
          "output_type": "stream",
          "text": [
            "1.0\n",
            "7\n"
          ],
          "name": "stdout"
        }
      ]
    },
    {
      "cell_type": "code",
      "metadata": {
        "id": "mRnkuncWPwsH",
        "colab": {
          "base_uri": "https://localhost:8080/"
        },
        "outputId": "23cbd7d6-47dd-4b4e-826a-2dd41e8027c9"
      },
      "source": [
        "import numpy as np\n",
        "\n",
        "#10개의 수를 더하면?\n",
        "one_pred=pred_result[0]\n",
        "print(tf.reduce_sum(one_pred))\n",
        "print(tf.reduce_sum(one_pred).numpy())\n",
        "\n",
        "#혹시 가장 큰수가 있는 첨자가 결과\n",
        "print(tf.argmax(one_pred).numpy())"
      ],
      "execution_count": 14,
      "outputs": [
        {
          "output_type": "stream",
          "text": [
            "tf.Tensor(1.0, shape=(), dtype=float32)\n",
            "1.0\n",
            "7\n"
          ],
          "name": "stdout"
        }
      ]
    },
    {
      "cell_type": "markdown",
      "metadata": {
        "id": "goVXByo8RCWe"
      },
      "source": [
        "One Hot Encoding의 이해\n",
        "  데이터가 취할 수 있는 모든 단일 범주에 대해 하나의 새열을 생성"
      ]
    },
    {
      "cell_type": "code",
      "metadata": {
        "id": "YwvJ_UP-QCgi",
        "colab": {
          "base_uri": "https://localhost:8080/"
        },
        "outputId": "a70a4137-2550-4114-c6e3-55916f99dde3"
      },
      "source": [
        "import numpy as np\n",
        "###############################\n",
        "\n",
        "print(np.argmax([5,4,10,1,2]))\n",
        "print(np.argmax([3,1,4,9,6,7,2]))\n",
        "print(np.argmax([[0.1,0.8,0.1],[0.7,0.2,0.1],[0.2,0.1,0.7]], axis=1))"
      ],
      "execution_count": 15,
      "outputs": [
        {
          "output_type": "stream",
          "text": [
            "2\n",
            "3\n",
            "[1 0 2]\n"
          ],
          "name": "stdout"
        }
      ]
    },
    {
      "cell_type": "code",
      "metadata": {
        "id": "7GaAcgGrSa8-",
        "colab": {
          "base_uri": "https://localhost:8080/"
        },
        "outputId": "68710fb0-76d8-4aad-d8d0-d89b9bf0e0e0"
      },
      "source": [
        "import numpy as np\n",
        "\n",
        "\n",
        "#############################\n",
        "\n",
        "print(tf.argmax([5,4,10,1,2]))\n",
        "print(tf.argmax([3,1,4,9,6,7,2]))\n",
        "print(tf.argmax([[0.1,0.8,0.1],[0.7,0.2,0.1],[0.2,0.1,0.7]], axis=1))"
      ],
      "execution_count": 16,
      "outputs": [
        {
          "output_type": "stream",
          "text": [
            "tf.Tensor(2, shape=(), dtype=int64)\n",
            "tf.Tensor(3, shape=(), dtype=int64)\n",
            "tf.Tensor([1 0 2], shape=(3,), dtype=int64)\n"
          ],
          "name": "stdout"
        }
      ]
    },
    {
      "cell_type": "markdown",
      "metadata": {
        "id": "HS-rEhhJUGkP"
      },
      "source": [
        "MNIST 손글씨 결과 확인 그림으로"
      ]
    },
    {
      "cell_type": "code",
      "metadata": {
        "id": "tP-uG9GTTjGx",
        "colab": {
          "base_uri": "https://localhost:8080/",
          "height": 302
        },
        "outputId": "86dac454-56d2-4f2c-e9f2-d493c4a20647"
      },
      "source": [
        "import numpy as np\n",
        "\n",
        "#10개의 수를 더하면?\n",
        "one_pred=pred_result[0] #테스트 데이터에 대한 예측값이 있다.\n",
        "print(tf.reduce_sum(one_pred))\n",
        "print(tf.reduce_sum(one_pred).numpy())\n",
        "\n",
        "#혹시 가장 큰수가 있는 첨자가 결과\n",
        "print(tf.argmax(one_pred).numpy()) #확률 값중 가장 큰 값이 들어간다.\n",
        "\n",
        "import matplotlib.pyplot as plt\n",
        "\n",
        "plt.figure(figsize=(5,3))\n",
        "tmp = \"Predict: \"+ str(one) + \" Label: \" + str(y_test[0])\n",
        "plt.title(tmp)\n",
        "plt.imshow(x_test[0], cmap=\"Greys\") #임시 저장소"
      ],
      "execution_count": 18,
      "outputs": [
        {
          "output_type": "stream",
          "text": [
            "tf.Tensor(1.0, shape=(), dtype=float32)\n",
            "1.0\n",
            "7\n"
          ],
          "name": "stdout"
        },
        {
          "output_type": "execute_result",
          "data": {
            "text/plain": [
              "<matplotlib.image.AxesImage at 0x7f566cf080b8>"
            ]
          },
          "metadata": {
            "tags": []
          },
          "execution_count": 18
        },
        {
          "output_type": "display_data",
          "data": {
            "image/png": "[encoded data removed]",
            "text/plain": [
              "<Figure size 360x216 with 1 Axes>"
            ]
          },
          "metadata": {
            "tags": [],
            "needs_background": "light"
          }
        }
      ]
    },
    {
      "cell_type": "code",
      "metadata": {
        "id": "Cur2Z4pFUxBL",
        "colab": {
          "base_uri": "https://localhost:8080/"
        },
        "outputId": "8ca2e3aa-7bce-45fe-af73-5dfc085bebaf"
      },
      "source": [
        "#####################################\n",
        "#간단한 자료 처리\n",
        "import numpy as np\n",
        "x=np.array([2,3,254,5,6,3])\n",
        "x=x/255.0\n",
        "print(x)\n",
        "\n",
        "x=x.reshape(2,3)\n",
        "print(x)\n",
        "\n",
        "x=x.flatten()\n",
        "print(x)\n",
        "#평탄화"
      ],
      "execution_count": 20,
      "outputs": [
        {
          "output_type": "stream",
          "text": [
            "[0.00784314 0.01176471 0.99607843 0.01960784 0.02352941 0.01176471]\n",
            "[[0.00784314 0.01176471 0.99607843]\n",
            " [0.01960784 0.02352941 0.01176471]]\n",
            "[0.00784314 0.01176471 0.99607843 0.01960784 0.02352941 0.01176471]\n"
          ],
          "name": "stdout"
        }
      ]
    },
    {
      "cell_type": "markdown",
      "metadata": {
        "id": "eIF_XBF4Yx62"
      },
      "source": [
        ""
      ]
    },
    {
      "cell_type": "code",
      "metadata": {
        "id": "ggcuR_RjVo63",
        "colab": {
          "base_uri": "https://localhost:8080/"
        },
        "outputId": "e0776a50-6b82-4b1f-bc0e-2b1be4856fb1"
      },
      "source": [
        "data = np.arange(1,11).reshape(5,2).astype(np.float32)\n",
        "print(data)\n",
        "np.sum(data)"
      ],
      "execution_count": 22,
      "outputs": [
        {
          "output_type": "stream",
          "text": [
            "[[ 1.  2.]\n",
            " [ 3.  4.]\n",
            " [ 5.  6.]\n",
            " [ 7.  8.]\n",
            " [ 9. 10.]]\n"
          ],
          "name": "stdout"
        },
        {
          "output_type": "execute_result",
          "data": {
            "text/plain": [
              "55.0"
            ]
          },
          "metadata": {
            "tags": []
          },
          "execution_count": 22
        }
      ]
    },
    {
      "cell_type": "code",
      "metadata": {
        "id": "F5OIESnjZ8I4",
        "colab": {
          "base_uri": "https://localhost:8080/"
        },
        "outputId": "d33d8b98-4fb7-4023-8f26-20f9d26dd43c"
      },
      "source": [
        "tf.random.set_seed(0)\n",
        "layer = tf.keras.layers.Dropout(.3,input_shape=(2,))\n",
        "outputs = layer(data, training=True)\n",
        "print(outputs)\n",
        "np.sum(outputs)"
      ],
      "execution_count": 24,
      "outputs": [
        {
          "output_type": "stream",
          "text": [
            "tf.Tensor(\n",
            "[[ 0.         0.       ]\n",
            " [ 4.285714   5.714286 ]\n",
            " [ 7.1428576  8.571428 ]\n",
            " [10.        11.428572 ]\n",
            " [12.857143   0.       ]], shape=(5, 2), dtype=float32)\n"
          ],
          "name": "stdout"
        },
        {
          "output_type": "execute_result",
          "data": {
            "text/plain": [
              "60.0"
            ]
          },
          "metadata": {
            "tags": []
          },
          "execution_count": 24
        }
      ]
    },
    {
      "cell_type": "code",
      "metadata": {
        "id": "_bZeXfQcagpe",
        "colab": {
          "base_uri": "https://localhost:8080/"
        },
        "outputId": "c19a07a4-37c3-495b-f748-6625c466ba9b"
      },
      "source": [
        "from random import sample\n",
        "import numpy as np\n",
        "\n",
        "pred_result = model.predict(x_test)\n",
        "print(pred_result.shape)\n",
        "print(pred_result[0])\n",
        "print(np.argmax(pred_result[0]))\n",
        "\n",
        "#원핫 인코딩\n",
        "pred_labels = np.argmax(pred_result, axis=1)\n",
        "#예측 답 \n",
        "print(pred_labels)\n",
        "#실제 답\n",
        "print(y_test)\n",
        "############################"
      ],
      "execution_count": 26,
      "outputs": [
        {
          "output_type": "stream",
          "text": [
            "(10000, 10)\n",
            "[1.18029625e-07 3.23097531e-08 8.95616358e-06 6.75961928e-05\n",
            " 3.70424611e-12 6.72082976e-08 5.24758893e-13 9.99917388e-01\n",
            " 1.55914825e-06 4.32422348e-06]\n",
            "7\n",
            "[7 2 1 ... 4 5 6]\n",
            "[7 2 1 ... 4 5 6]\n"
          ],
          "name": "stdout"
        }
      ]
    },
    {
      "cell_type": "code",
      "metadata": {
        "id": "wG3OZaPQcRLY"
      },
      "source": [
        "from random import sample\n",
        "import numpy as np\n",
        "\n",
        "#예측한 softmax의 확률이 있는 리스트 pred_result\n",
        "pred_result = model.predict(x_test)\n",
        "\n",
        "#실제 예측한 정답이 있는 리스트 pred_labels\n",
        "pred_labels = np.argmax(pred_result, axis=1)\n",
        "\n",
        "#랜덤하게 20개의 훈련용 자료를 에측 값과 정답, 그림을 그리자\n",
        "nrows, ncols = 5,4 #출력 가로 세로 수\n",
        "samples = sorted(sample(range(len(x_test)), nrows * ncols)) # 출력할 첨자 선정"
      ],
      "execution_count": 27,
      "outputs": []
    },
    {
      "cell_type": "code",
      "metadata": {
        "id": "aKsiTeHBdsx6",
        "colab": {
          "base_uri": "https://localhost:8080/",
          "height": 729
        },
        "outputId": "da50d039-6285-4840-f6a6-2b7815771694"
      },
      "source": [
        "#임의의 20개 그리기\n",
        "count =0\n",
        "plt.figure(figsize=(12,10))\n",
        "for n in samples:\n",
        "  count+=1\n",
        "  plt.subplot(nrows, ncols, count)\n",
        "  #예측이 틀린 것은 파란색으로 그리기\n",
        "  cmap=  'Greys' if (pred_labels[n] == y_test[n]) else 'Blues'\n",
        "  plt.imshow(x_test[n].reshape(28,28),cmap=cmap, interpolation='nearest')\n",
        "  tmp=\"Label:\" + str(y_test[n]) + \", Prediction:\" + str(pred_labels[n])\n",
        "  plt.title(tmp)\n",
        "plt.tight_layout()\n",
        "plt.show()"
      ],
      "execution_count": 28,
      "outputs": [
        {
          "output_type": "display_data",
          "data": {
            "image/png": "[encoded data removed]",
            "text/plain": [
              "<Figure size 864x720 with 20 Axes>"
            ]
          },
          "metadata": {
            "tags": [],
            "needs_background": "light"
          }
        }
      ]
    },
    {
      "cell_type": "code",
      "metadata": {
        "id": "TDnHDjRkfAjy",
        "colab": {
          "base_uri": "https://localhost:8080/",
          "height": 52
        },
        "outputId": "2ed372d2-eb0b-4f7f-fd17-c26b9221f214"
      },
      "source": [
        "#틀린 것을 임의의 20개를 찾아 첨자를 리스트 samples에 저장\n",
        "from random import sample\n",
        "import numpy as np\n",
        "\n",
        "#######################################\n",
        "#예측이 틀린 것 첨자를 저장할리스트\n",
        "mispred = []\n",
        "#예측한 softmax의 확률이 있는 리스트 pred_result\n",
        "pred_result = model.predict(x_test)\n",
        "\n",
        "#실제 예측한 정답이 있는 리스트 pred labels\n",
        "pred_labels = np.argmax(pred_result, axis=1)\n",
        "\n",
        "for n in range(0,len(y_test)):\n",
        "  if pred_labels[n] != y_test[n]:\n",
        "    mispred.append(n)\n",
        "print('정답이 틀린 수', len(mispred))\n",
        "\n",
        "#랜덤하게 틀린 것 20개의 첨자 리스트 생성\n",
        "samples = sample(mispred,20)\n",
        "print(samples)"
      ],
      "execution_count": null,
      "outputs": [
        {
          "output_type": "stream",
          "text": [
            "정답이 틀린 수 228\n",
            "[1609, 844, 1319, 1444, 1128, 2433, 4078, 3776, 9679, 947, 6555, 6568, 5331, 6783, 9779, 2016, 4425, 3330, 2040, 1549]\n"
          ],
          "name": "stdout"
        }
      ]
    },
    {
      "cell_type": "code",
      "metadata": {
        "id": "CUq8IsZAiIg5",
        "colab": {
          "base_uri": "https://localhost:8080/",
          "height": 729
        },
        "outputId": "d93d837e-4f9a-42b7-e515-d8e6da0adbc5"
      },
      "source": [
        "#틀린 것 20개 샘플로 그리기\n",
        "#틀린 첨자 저장\n",
        "#mispred\n",
        "count = 0\n",
        "nrows, ncols = 5,4\n",
        "plt.figure(figsize=(12,10))\n",
        "for n in samples:\n",
        "  count +=1\n",
        "  plt.subplot(nrows, ncols, count)\n",
        "  plt.imshow(x_test[n].reshape(28,28), cmap='Greys', interpolation='nearest')\n",
        "  tmp = \"Label:\" + str(y_test[n]) + \", Prediction: \" + str(pred_labels[n])\n",
        "  plt.title(tmp)\n",
        "\n",
        "plt.tight_layout()\n",
        "plt.show()"
      ],
      "execution_count": 30,
      "outputs": [
        {
          "output_type": "display_data",
          "data": {
            "image/png": "[encoded data removed]",
            "text/plain": [
              "<Figure size 864x720 with 20 Axes>"
            ]
          },
          "metadata": {
            "tags": [],
            "needs_background": "light"
          }
        }
      ]
    },
    {
      "cell_type": "code",
      "metadata": {
        "id": "La4hRTgzjQSC",
        "colab": {
          "base_uri": "https://localhost:8080/"
        },
        "outputId": "c1e2babd-968f-4dd8-9ed4-4cc6b7452a0b"
      },
      "source": [
        "##중간 고사 시험 MNIST 손글씨 다양한 구현\n",
        "\n",
        "#층을 차례대로 쌓아 tf.keras.Sequential 모델을 생성\n",
        "model = tf.keras.models.Sequential([\n",
        "                                    tf.keras.layers.Flatten(input_shape=(28,28)),\n",
        "                                    tf.keras.layers.Dense(128, activation='relu'),\n",
        "                                    tf.keras.layers.Dropout(.2),\n",
        "                                    tf.keras.layers.Dense(64, activation='relu'),\n",
        "                                    tf.keras.layers.Dropout(.2),\n",
        "                                    tf.keras.layers.Dense(10, activation='softmax')\n",
        "])\n",
        "\n",
        "#훈련에 사용할 옵티마이저와 손실함수, 출력 정보를 선택\n",
        "model.compile(optimizer='adam',\n",
        "              loss = 'sparse_categorical_crossentropy',\n",
        "              metrics=['accuracy']\n",
        "              )\n",
        "\n",
        "#모델 요약표시\n",
        "model.summary()\n",
        "\n",
        "#모델을 훈련 데이터로 총 5번 훈련\n",
        "model.fit(x_train, y_train, epochs=20)"
      ],
      "execution_count": 31,
      "outputs": [
        {
          "output_type": "stream",
          "text": [
            "Model: \"sequential_1\"\n",
            "_________________________________________________________________\n",
            "Layer (type)                 Output Shape              Param #   \n",
            "=================================================================\n",
            "flatten_1 (Flatten)          (None, 784)               0         \n",
            "_________________________________________________________________\n",
            "dense_2 (Dense)              (None, 128)               100480    \n",
            "_________________________________________________________________\n",
            "dropout_3 (Dropout)          (None, 128)               0         \n",
            "_________________________________________________________________\n",
            "dense_3 (Dense)              (None, 64)                8256      \n",
            "_________________________________________________________________\n",
            "dropout_4 (Dropout)          (None, 64)                0         \n",
            "_________________________________________________________________\n",
            "dense_4 (Dense)              (None, 10)                650       \n",
            "=================================================================\n",
            "Total params: 109,386\n",
            "Trainable params: 109,386\n",
            "Non-trainable params: 0\n",
            "_________________________________________________________________\n",
            "Epoch 1/20\n",
            "1875/1875 [==============================] - 4s 2ms/step - loss: 0.3324 - accuracy: 0.9004\n",
            "Epoch 2/20\n",
            "1875/1875 [==============================] - 4s 2ms/step - loss: 0.1644 - accuracy: 0.9514\n",
            "Epoch 3/20\n",
            "1875/1875 [==============================] - 4s 2ms/step - loss: 0.1281 - accuracy: 0.9619\n",
            "Epoch 4/20\n",
            "1875/1875 [==============================] - 4s 2ms/step - loss: 0.1069 - accuracy: 0.9671\n",
            "Epoch 5/20\n",
            "1875/1875 [==============================] - 4s 2ms/step - loss: 0.0950 - accuracy: 0.9716\n",
            "Epoch 6/20\n",
            "1875/1875 [==============================] - 4s 2ms/step - loss: 0.0836 - accuracy: 0.9740\n",
            "Epoch 7/20\n",
            "1875/1875 [==============================] - 3s 2ms/step - loss: 0.0755 - accuracy: 0.9765\n",
            "Epoch 8/20\n",
            "1875/1875 [==============================] - 3s 2ms/step - loss: 0.0714 - accuracy: 0.9775\n",
            "Epoch 9/20\n",
            "1875/1875 [==============================] - 4s 2ms/step - loss: 0.0669 - accuracy: 0.9790\n",
            "Epoch 10/20\n",
            "1875/1875 [==============================] - 4s 2ms/step - loss: 0.0619 - accuracy: 0.9809\n",
            "Epoch 11/20\n",
            "1875/1875 [==============================] - 4s 2ms/step - loss: 0.0581 - accuracy: 0.9816\n",
            "Epoch 12/20\n",
            "1875/1875 [==============================] - 4s 2ms/step - loss: 0.0556 - accuracy: 0.9822\n",
            "Epoch 13/20\n",
            "1875/1875 [==============================] - 4s 2ms/step - loss: 0.0540 - accuracy: 0.9824\n",
            "Epoch 14/20\n",
            "1875/1875 [==============================] - 4s 2ms/step - loss: 0.0509 - accuracy: 0.9830\n",
            "Epoch 15/20\n",
            "1875/1875 [==============================] - 4s 2ms/step - loss: 0.0492 - accuracy: 0.9840\n",
            "Epoch 16/20\n",
            "1875/1875 [==============================] - 4s 2ms/step - loss: 0.0464 - accuracy: 0.9849\n",
            "Epoch 17/20\n",
            "1875/1875 [==============================] - 4s 2ms/step - loss: 0.0462 - accuracy: 0.9850\n",
            "Epoch 18/20\n",
            "1875/1875 [==============================] - 4s 2ms/step - loss: 0.0458 - accuracy: 0.9852\n",
            "Epoch 19/20\n",
            "1875/1875 [==============================] - 4s 2ms/step - loss: 0.0408 - accuracy: 0.9871\n",
            "Epoch 20/20\n",
            "1875/1875 [==============================] - 4s 2ms/step - loss: 0.0407 - accuracy: 0.9868\n"
          ],
          "name": "stdout"
        },
        {
          "output_type": "execute_result",
          "data": {
            "text/plain": [
              "<tensorflow.python.keras.callbacks.History at 0x7f5664b76668>"
            ]
          },
          "metadata": {
            "tags": []
          },
          "execution_count": 31
        }
      ]
    },
    {
      "cell_type": "code",
      "metadata": {
        "id": "3csCeZ1KlFfq",
        "colab": {
          "base_uri": "https://localhost:8080/",
          "height": 139
        },
        "outputId": "4b7bd20e-66c6-4675-d827-8b24f65419de"
      },
      "source": [
        "#메소드 flatten() 미사용\n",
        "\n",
        "import tensorflow as tf\n",
        "\n",
        "mnist = tf.keras.datasets.mnist\n",
        "(x_train, y_train), (x_test, y_test) = mnist.load_data()\n",
        "#샘플 값을 정수(0~255)에서 부동소수(0~1)로 변환\n",
        "x_train, x_test = x_train /255.0, x_test/255.0\n",
        "#먼저 reshape()로 평탄화 작업을 수행한 후\n",
        "x_train = x_train.reshape((60000, 28*28))\n",
        "x_test = x_test.reshape((10000, 28*28))\n",
        "\n",
        "#층을 차례대로 쌓아 tf.keras.models.Sequential 모델을 생성\n",
        "model = tf.keras.models.Sequential([\n",
        "                                    tf.keras.layers.Flatten(input_shape=(28,28)),\n",
        "                                    tf.keras.layers.Dense(128, activation='relu', input_shape(28 * 28,)),\n",
        "                                    tf.keras.layers.Dropout(0.2),\n",
        "                                    tf.keras.layers.Dense(10, activation='softmax')\n",
        "])\n",
        "\n",
        "#모델 요약 표시\n",
        "model.summary()\n",
        "\n",
        "#훈련 사용할 옵티마이저 와 손실함수 , 출력정보를 모델에 설정\n",
        "model.compile(optimizer='adam',\n",
        "              loss='sparse_categorical_crossentropy',\n",
        "              metrics=['accuracy'])\n",
        "#metrics=['accuracy', 'mse'])\n",
        "\n",
        "#모델을 훈련 데이터로 총 5번 훈련\n",
        "model.fit(x_train,y_train,epochs=5)\n",
        "\n",
        "#모델을 테스트 데이터로 평가\n",
        "model.evaluate(x_test,y_test)"
      ],
      "execution_count": 33,
      "outputs": [
        {
          "output_type": "error",
          "ename": "SyntaxError",
          "evalue": "ignored",
          "traceback": [
            "\u001b[0;36m  File \u001b[0;32m\"<ipython-input-33-a63cb0ee5191>\"\u001b[0;36m, line \u001b[0;32m16\u001b[0m\n\u001b[0;31m    tf.keras.layers.Dense(128, activation='relu', input_shape(28 * 28,)),\u001b[0m\n\u001b[0m                                                 ^\u001b[0m\n\u001b[0;31mSyntaxError\u001b[0m\u001b[0;31m:\u001b[0m positional argument follows keyword argument\n"
          ]
        }
      ]
    },
    {
      "cell_type": "code",
      "metadata": {
        "id": "fp9gsHVNp9Qf"
      },
      "source": [
        ""
      ],
      "execution_count": null,
      "outputs": []
    }
  ]
}