{
  "nbformat": 4,
  "nbformat_minor": 0,
  "metadata": {
    "colab": {
      "name": "03-tf-random.ipynb",
      "provenance": [],
      "collapsed_sections": [],
      "authorship_tag": "ABX9TyMVpuH1GabF0y0t91QF3lzz",
      "include_colab_link": true
    },
    "kernelspec": {
      "name": "python3",
      "display_name": "Python 3"
    }
  },
  "cells": [
    {
      "cell_type": "markdown",
      "metadata": {
        "id": "view-in-github",
        "colab_type": "text"
      },
      "source": [
        "<a href=\"https://colab.research.google.com/github/GeunheeHan/2020-2-AI/blob/main/code/03_tf_random.ipynb\" target=\"_parent\"><img src=\"https://colab.research.google.com/assets/colab-badge.svg\" alt=\"Open In Colab\"/></a>"
      ]
    },
    {
      "cell_type": "code",
      "metadata": {
        "id": "q6St-kRozOeW",
        "outputId": "e199e176-7140-4036-9722-2193cad0fcba",
        "colab": {
          "base_uri": "https://localhost:8080/",
          "height": 35
        }
      },
      "source": [
        "import tensorflow as tf\n",
        "tf.__version__"
      ],
      "execution_count": null,
      "outputs": [
        {
          "output_type": "execute_result",
          "data": {
            "application/vnd.google.colaboratory.intrinsic+json": {
              "type": "string"
            },
            "text/plain": [
              "'2.3.0'"
            ]
          },
          "metadata": {
            "tags": []
          },
          "execution_count": 1
        }
      ]
    },
    {
      "cell_type": "code",
      "metadata": {
        "id": "FgxXbguXuMpi",
        "outputId": "f19d3a92-2bfb-424d-f376-23b684417852",
        "colab": {
          "base_uri": "https://localhost:8080/",
          "height": 35
        }
      },
      "source": [
        "#3,7 랜덤한 수 얻기 (균일 분포)\n",
        "rand = tf.random.uniform([1],0,1)\n",
        "print(rand)"
      ],
      "execution_count": null,
      "outputs": [
        {
          "output_type": "stream",
          "text": [
            "tf.Tensor([0.7586086], shape=(1,), dtype=float32)\n"
          ],
          "name": "stdout"
        }
      ]
    },
    {
      "cell_type": "code",
      "metadata": {
        "id": "0o8vhJBRuUBM",
        "outputId": "c6e49166-7902-44a1-ab51-c76483a7e880",
        "colab": {
          "base_uri": "https://localhost:8080/",
          "height": 125
        }
      },
      "source": [
        "rand = tf.random.uniform([5,4],0,1)\n",
        "print(rand)"
      ],
      "execution_count": null,
      "outputs": [
        {
          "output_type": "stream",
          "text": [
            "tf.Tensor(\n",
            "[[0.25572407 0.57340646 0.77737606 0.4770198 ]\n",
            " [0.35867608 0.56122077 0.36773717 0.21443188]\n",
            " [0.35423803 0.10888362 0.5510478  0.9368199 ]\n",
            " [0.07648396 0.9394914  0.2570548  0.65446043]\n",
            " [0.7996371  0.5505259  0.4201342  0.64448166]], shape=(5, 4), dtype=float32)\n"
          ],
          "name": "stdout"
        }
      ]
    },
    {
      "cell_type": "code",
      "metadata": {
        "id": "v1Ro263GvB4h",
        "outputId": "cbcb2306-d053-43bb-b8ae-ca795a4f343f",
        "colab": {
          "base_uri": "https://localhost:8080/",
          "height": 71
        }
      },
      "source": [
        "rand = tf.random.uniform([1000],0,10)\n",
        "print(rand[:10])"
      ],
      "execution_count": null,
      "outputs": [
        {
          "output_type": "stream",
          "text": [
            "tf.Tensor(\n",
            "[9.723716  2.601993  5.147884  8.559637  0.9290886 4.942019  1.7831147\n",
            " 3.9651    0.607425  0.5376482], shape=(10,), dtype=float32)\n"
          ],
          "name": "stdout"
        }
      ]
    },
    {
      "cell_type": "code",
      "metadata": {
        "id": "tYqx67xVvZlj",
        "outputId": "d1bc83b2-6aac-491d-eb25-59aed21bd889",
        "colab": {
          "base_uri": "https://localhost:8080/",
          "height": 373
        }
      },
      "source": [
        "import matplotlib.pyplot as plt\n",
        "rand = tf.random.uniform([10000],0,50)\n",
        "plt.hist(rand, bins=10)"
      ],
      "execution_count": null,
      "outputs": [
        {
          "output_type": "execute_result",
          "data": {
            "text/plain": [
              "(array([1040., 1041.,  973., 1010., 1035.,  981.,  976.,  994.,  956.,\n",
              "         994.]),\n",
              " array([2.3841858e-04, 4.9999962e+00, 9.9997540e+00, 1.4999513e+01,\n",
              "        1.9999269e+01, 2.4999027e+01, 2.9998787e+01, 3.4998543e+01,\n",
              "        3.9998302e+01, 4.4998058e+01, 4.9997818e+01], dtype=float32),\n",
              " <a list of 10 Patch objects>)"
            ]
          },
          "metadata": {
            "tags": []
          },
          "execution_count": 7
        },
        {
          "output_type": "display_data",
          "data": {
            "image/png": "[encoded data removed]",
            "text/plain": [
              "<Figure size 432x288 with 1 Axes>"
            ]
          },
          "metadata": {
            "tags": [],
            "needs_background": "light"
          }
        }
      ]
    },
    {
      "cell_type": "code",
      "metadata": {
        "id": "iKQ4uS9bwOaV",
        "outputId": "cac8a478-7b9b-4908-f09e-a0216209da64",
        "colab": {
          "base_uri": "https://localhost:8080/",
          "height": 35
        }
      },
      "source": [
        "# 3.9 랜덤한 수 여러 개 얻기 (정규 분포)\n",
        "rand = tf.random.normal([4],0,1)\n",
        "print(rand)"
      ],
      "execution_count": null,
      "outputs": [
        {
          "output_type": "stream",
          "text": [
            "tf.Tensor([ 0.748049   1.2655237 -2.1459699 -1.0157279], shape=(4,), dtype=float32)\n"
          ],
          "name": "stdout"
        }
      ]
    },
    {
      "cell_type": "code",
      "metadata": {
        "id": "pGGlAJyMwTfj",
        "outputId": "eb11e500-98ea-4a85-86fa-c8d58f7bfb0e",
        "colab": {
          "base_uri": "https://localhost:8080/",
          "height": 71
        }
      },
      "source": [
        "# 3.9 랜덤한 수 여러 개 얻기 (정규 분포)\n",
        "rand = tf.random.normal([2, 4],0,2)\n",
        "print(rand)"
      ],
      "execution_count": null,
      "outputs": [
        {
          "output_type": "stream",
          "text": [
            "tf.Tensor(\n",
            "[[ 0.9057808  -4.2003303   1.3747034   1.9594638 ]\n",
            " [ 1.7361418  -2.0234852  -0.33626932 -3.1894848 ]], shape=(2, 4), dtype=float32)\n"
          ],
          "name": "stdout"
        }
      ]
    },
    {
      "cell_type": "code",
      "metadata": {
        "id": "ygAXy26qxa_F",
        "outputId": "62bd4053-4768-416f-95e7-abb3bbd228d8",
        "colab": {
          "base_uri": "https://localhost:8080/",
          "height": 1000
        }
      },
      "source": [
        "import matplotlib.pyplot as plt\n",
        "rand = tf.random.normal([1000000], 0, 1)\n",
        "plt.hist(rand,bins=100)"
      ],
      "execution_count": null,
      "outputs": [
        {
          "output_type": "execute_result",
          "data": {
            "text/plain": [
              "(array([2.0000e+00, 2.0000e+00, 2.0000e+00, 6.0000e+00, 3.0000e+00,\n",
              "        6.0000e+00, 1.4000e+01, 2.2000e+01, 2.7000e+01, 3.4000e+01,\n",
              "        6.0000e+01, 7.2000e+01, 1.1300e+02, 1.3400e+02, 2.0000e+02,\n",
              "        2.3400e+02, 3.5500e+02, 4.5500e+02, 6.0500e+02, 7.2000e+02,\n",
              "        9.9200e+02, 1.2280e+03, 1.6170e+03, 1.9510e+03, 2.5600e+03,\n",
              "        3.0070e+03, 3.7280e+03, 4.5820e+03, 5.5450e+03, 6.5340e+03,\n",
              "        7.8340e+03, 9.0510e+03, 1.0523e+04, 1.2107e+04, 1.3852e+04,\n",
              "        1.5842e+04, 1.7489e+04, 1.9824e+04, 2.1595e+04, 2.4026e+04,\n",
              "        2.5882e+04, 2.7825e+04, 2.9347e+04, 3.1212e+04, 3.2589e+04,\n",
              "        3.4425e+04, 3.5307e+04, 3.6014e+04, 3.6147e+04, 3.6826e+04,\n",
              "        3.6645e+04, 3.6361e+04, 3.5599e+04, 3.5106e+04, 3.3238e+04,\n",
              "        3.2151e+04, 3.0292e+04, 2.8187e+04, 2.6529e+04, 2.4740e+04,\n",
              "        2.2020e+04, 2.0105e+04, 1.7992e+04, 1.6270e+04, 1.4424e+04,\n",
              "        1.2597e+04, 1.0947e+04, 9.3330e+03, 7.9260e+03, 6.8980e+03,\n",
              "        5.8140e+03, 4.7830e+03, 3.9930e+03, 3.2860e+03, 2.6640e+03,\n",
              "        2.0960e+03, 1.7290e+03, 1.3460e+03, 1.0860e+03, 8.3300e+02,\n",
              "        6.2800e+02, 4.6400e+02, 3.8400e+02, 2.5500e+02, 2.1800e+02,\n",
              "        1.5600e+02, 1.0500e+02, 8.5000e+01, 6.0000e+01, 3.7000e+01,\n",
              "        3.7000e+01, 1.7000e+01, 8.0000e+00, 8.0000e+00, 1.0000e+01,\n",
              "        2.0000e+00, 5.0000e+00, 1.0000e+00, 1.0000e+00, 2.0000e+00]),\n",
              " array([-4.5807347 , -4.488444  , -4.3961525 , -4.3038616 , -4.2115707 ,\n",
              "        -4.1192794 , -4.0269885 , -3.9346974 , -3.8424065 , -3.7501154 ,\n",
              "        -3.6578243 , -3.5655334 , -3.4732423 , -3.3809512 , -3.28866   ,\n",
              "        -3.1963692 , -3.104078  , -3.011787  , -2.919496  , -2.827205  ,\n",
              "        -2.7349138 , -2.642623  , -2.5503318 , -2.4580407 , -2.3657498 ,\n",
              "        -2.2734587 , -2.1811676 , -2.0888767 , -1.9965856 , -1.9042946 ,\n",
              "        -1.8120035 , -1.7197125 , -1.6274214 , -1.5351304 , -1.4428394 ,\n",
              "        -1.3505483 , -1.2582573 , -1.1659663 , -1.0736752 , -0.98138416,\n",
              "        -0.8890931 , -0.79680204, -0.70451105, -0.61222   , -0.51992893,\n",
              "        -0.4276379 , -0.33534688, -0.24305584, -0.1507648 , -0.05847375,\n",
              "         0.03381729,  0.12610833,  0.21839938,  0.3106904 ,  0.40298146,\n",
              "         0.4952725 ,  0.5875635 ,  0.6798546 ,  0.7721456 ,  0.8644366 ,\n",
              "         0.9567277 ,  1.0490187 ,  1.1413097 ,  1.2336009 ,  1.3258919 ,\n",
              "         1.4181828 ,  1.510474  ,  1.602765  ,  1.695056  ,  1.7873471 ,\n",
              "         1.8796381 ,  1.9719292 ,  2.0642202 ,  2.1565113 ,  2.2488022 ,\n",
              "         2.3410933 ,  2.4333844 ,  2.5256753 ,  2.6179664 ,  2.7102575 ,\n",
              "         2.8025484 ,  2.8948395 ,  2.9871306 ,  3.0794215 ,  3.1717126 ,\n",
              "         3.2640038 ,  3.3562946 ,  3.4485857 ,  3.5408769 ,  3.633168  ,\n",
              "         3.7254589 ,  3.81775   ,  3.910041  ,  4.002332  ,  4.094623  ,\n",
              "         4.186914  ,  4.2792053 ,  4.371496  ,  4.463787  ,  4.5560784 ,\n",
              "         4.6483693 ], dtype=float32),\n",
              " <a list of 100 Patch objects>)"
            ]
          },
          "metadata": {
            "tags": []
          },
          "execution_count": 24
        },
        {
          "output_type": "display_data",
          "data": {
            "image/png": "[encoded data removed]",
            "text/plain": [
              "<Figure size 432x288 with 1 Axes>"
            ]
          },
          "metadata": {
            "tags": [],
            "needs_background": "light"
          }
        }
      ]
    },
    {
      "cell_type": "code",
      "metadata": {
        "id": "JTnkK99Cx56d",
        "outputId": "76b695d6-b2cd-4ae1-a0c5-2e0f0e76956c",
        "colab": {
          "base_uri": "https://localhost:8080/",
          "height": 625
        }
      },
      "source": [
        "import matplotlib.pyplot as plt\n",
        "rand1 = tf.random.normal([100000],0, 1)\n",
        "rand2 = tf.random.uniform([200000],0, 1)\n",
        "plt.hist(rand1, bins=100)\n",
        "plt.hist(rand2, bins=50)"
      ],
      "execution_count": null,
      "outputs": [
        {
          "output_type": "execute_result",
          "data": {
            "text/plain": [
              "(array([3972., 4040., 4013., 3996., 4039., 4050., 3984., 3981., 4049.,\n",
              "        3993., 3944., 4143., 3970., 3949., 3961., 3960., 4040., 3988.,\n",
              "        3996., 3978., 3926., 4024., 3987., 3959., 3955., 3936., 3977.,\n",
              "        4040., 3971., 4106., 3909., 4060., 3972., 3920., 3949., 3963.,\n",
              "        3957., 4080., 4074., 4089., 3961., 4000., 4044., 4002., 4076.,\n",
              "        4067., 4051., 4049., 3963., 3887.]),\n",
              " array([6.1988831e-06, 2.0006042e-02, 4.0005885e-02, 6.0005728e-02,\n",
              "        8.0005571e-02, 1.0000541e-01, 1.2000526e-01, 1.4000510e-01,\n",
              "        1.6000494e-01, 1.8000478e-01, 2.0000462e-01, 2.2000447e-01,\n",
              "        2.4000432e-01, 2.6000416e-01, 2.8000399e-01, 3.0000383e-01,\n",
              "        3.2000369e-01, 3.4000352e-01, 3.6000335e-01, 3.8000321e-01,\n",
              "        4.0000305e-01, 4.2000291e-01, 4.4000274e-01, 4.6000257e-01,\n",
              "        4.8000243e-01, 5.0000226e-01, 5.2000213e-01, 5.4000193e-01,\n",
              "        5.6000179e-01, 5.8000165e-01, 6.0000145e-01, 6.2000132e-01,\n",
              "        6.4000118e-01, 6.6000098e-01, 6.8000084e-01, 7.0000070e-01,\n",
              "        7.2000051e-01, 7.4000037e-01, 7.6000023e-01, 7.8000009e-01,\n",
              "        7.9999989e-01, 8.1999975e-01, 8.3999962e-01, 8.5999942e-01,\n",
              "        8.7999928e-01, 8.9999914e-01, 9.1999894e-01, 9.3999881e-01,\n",
              "        9.5999867e-01, 9.7999847e-01, 9.9999833e-01], dtype=float32),\n",
              " <a list of 50 Patch objects>)"
            ]
          },
          "metadata": {
            "tags": []
          },
          "execution_count": 29
        },
        {
          "output_type": "display_data",
          "data": {
            "image/png": "[encoded data removed]",
            "text/plain": [
              "<Figure size 432x288 with 1 Axes>"
            ]
          },
          "metadata": {
            "tags": [],
            "needs_background": "light"
          }
        }
      ]
    },
    {
      "cell_type": "code",
      "metadata": {
        "id": "CCXgqvJMyrNr",
        "outputId": "47bd5a59-24f3-4906-d442-d6816e1e2f55",
        "colab": {
          "base_uri": "https://localhost:8080/",
          "height": 1000
        }
      },
      "source": [
        "import matplotlib.pyplot as plt\n",
        "rand1 = tf.random.normal([1000],0, 1)\n",
        "rand2 = tf.random.uniform([2000],0, 1)\n",
        "\n",
        "plt.rcParams[\"figure.figsize\"] = (12,6)\n",
        "fig, axes = plt.subplots(1,2, sharex=True, sharey=True)\n",
        "axes[0].hist(rand1, bins=100)\n",
        "axes[1].hist(rand2, bins=100)"
      ],
      "execution_count": null,
      "outputs": [
        {
          "output_type": "execute_result",
          "data": {
            "text/plain": [
              "(array([22., 21., 13., 15., 21., 23., 24., 26., 11., 18., 22., 16., 24.,\n",
              "        17., 15., 16., 22., 17., 19., 19., 18., 17., 27., 28., 18., 22.,\n",
              "        23., 21., 17., 26., 24., 18., 24., 14., 25., 13., 27., 17., 18.,\n",
              "        13., 14., 15., 17., 21., 19., 16., 21., 25., 25., 18., 18., 14.,\n",
              "        19., 27., 26., 19., 30., 18., 19., 22., 24., 26., 12., 19., 21.,\n",
              "        20., 21., 25., 21., 22., 18., 18., 13., 20., 17., 26., 21., 19.,\n",
              "        19., 27., 22., 26., 16., 21., 16., 28., 24., 22., 18., 17., 17.,\n",
              "        20., 15., 18., 15., 21., 31., 19., 16., 15.]),\n",
              " array([1.5258789e-05, 1.0013988e-02, 2.0012718e-02, 3.0011447e-02,\n",
              "        4.0010177e-02, 5.0008904e-02, 6.0007636e-02, 7.0006363e-02,\n",
              "        8.0005094e-02, 9.0003818e-02, 1.0000255e-01, 1.1000128e-01,\n",
              "        1.2000001e-01, 1.2999874e-01, 1.3999747e-01, 1.4999619e-01,\n",
              "        1.5999493e-01, 1.6999365e-01, 1.7999238e-01, 1.8999112e-01,\n",
              "        1.9998984e-01, 2.0998858e-01, 2.1998730e-01, 2.2998603e-01,\n",
              "        2.3998477e-01, 2.4998349e-01, 2.5998223e-01, 2.6998094e-01,\n",
              "        2.7997968e-01, 2.8997841e-01, 2.9997712e-01, 3.0997586e-01,\n",
              "        3.1997460e-01, 3.2997331e-01, 3.3997205e-01, 3.4997079e-01,\n",
              "        3.5996950e-01, 3.6996824e-01, 3.7996697e-01, 3.8996571e-01,\n",
              "        3.9996442e-01, 4.0996316e-01, 4.1996190e-01, 4.2996061e-01,\n",
              "        4.3995935e-01, 4.4995809e-01, 4.5995679e-01, 4.6995553e-01,\n",
              "        4.7995427e-01, 4.8995298e-01, 4.9995172e-01, 5.0995046e-01,\n",
              "        5.1994920e-01, 5.2994794e-01, 5.3994662e-01, 5.4994535e-01,\n",
              "        5.5994409e-01, 5.6994283e-01, 5.7994157e-01, 5.8994031e-01,\n",
              "        5.9993899e-01, 6.0993773e-01, 6.1993647e-01, 6.2993520e-01,\n",
              "        6.3993394e-01, 6.4993268e-01, 6.5993136e-01, 6.6993010e-01,\n",
              "        6.7992884e-01, 6.8992758e-01, 6.9992632e-01, 7.0992506e-01,\n",
              "        7.1992373e-01, 7.2992247e-01, 7.3992121e-01, 7.4991995e-01,\n",
              "        7.5991869e-01, 7.6991743e-01, 7.7991617e-01, 7.8991485e-01,\n",
              "        7.9991359e-01, 8.0991232e-01, 8.1991106e-01, 8.2990980e-01,\n",
              "        8.3990854e-01, 8.4990722e-01, 8.5990596e-01, 8.6990470e-01,\n",
              "        8.7990344e-01, 8.8990217e-01, 8.9990091e-01, 9.0989959e-01,\n",
              "        9.1989833e-01, 9.2989707e-01, 9.3989581e-01, 9.4989455e-01,\n",
              "        9.5989329e-01, 9.6989197e-01, 9.7989070e-01, 9.8988944e-01,\n",
              "        9.9988818e-01], dtype=float32),\n",
              " <a list of 100 Patch objects>)"
            ]
          },
          "metadata": {
            "tags": []
          },
          "execution_count": 32
        },
        {
          "output_type": "display_data",
          "data": {
            "image/png": "[encoded data removed]",
            "text/plain": [
              "<Figure size 864x432 with 2 Axes>"
            ]
          },
          "metadata": {
            "tags": [],
            "needs_background": "light"
          }
        }
      ]
    },
    {
      "cell_type": "code",
      "metadata": {
        "id": "iaZlzNe5y86X",
        "outputId": "2956f559-e0f2-4ecf-9498-25d51007cf67",
        "colab": {
          "base_uri": "https://localhost:8080/",
          "height": 53
        }
      },
      "source": [
        "import numpy as np\n",
        "a = np.arange(10)\n",
        "print(a)\n",
        "tf.random.shuffle(a)"
      ],
      "execution_count": null,
      "outputs": [
        {
          "output_type": "stream",
          "text": [
            "[0 1 2 3 4 5 6 7 8 9]\n"
          ],
          "name": "stdout"
        },
        {
          "output_type": "execute_result",
          "data": {
            "text/plain": [
              "<tf.Tensor: shape=(10,), dtype=int64, numpy=array([5, 7, 1, 6, 8, 0, 3, 9, 4, 2])>"
            ]
          },
          "metadata": {
            "tags": []
          },
          "execution_count": 34
        }
      ]
    },
    {
      "cell_type": "code",
      "metadata": {
        "id": "SdK7bpjhzchZ",
        "outputId": "8a4b3629-2a80-466b-f777-a395c2fec7e0",
        "colab": {
          "base_uri": "https://localhost:8080/",
          "height": 89
        }
      },
      "source": [
        "import numpy as np\n",
        "a = np.arange(20).reshape(4,5)\n",
        "a"
      ],
      "execution_count": null,
      "outputs": [
        {
          "output_type": "execute_result",
          "data": {
            "text/plain": [
              "array([[ 0,  1,  2,  3,  4],\n",
              "       [ 5,  6,  7,  8,  9],\n",
              "       [10, 11, 12, 13, 14],\n",
              "       [15, 16, 17, 18, 19]])"
            ]
          },
          "metadata": {
            "tags": []
          },
          "execution_count": 35
        }
      ]
    },
    {
      "cell_type": "code",
      "metadata": {
        "id": "oLqB91Suzj3R",
        "outputId": "7af955a4-91f7-4d69-e838-43ff5723fd46",
        "colab": {
          "base_uri": "https://localhost:8080/",
          "height": 107
        }
      },
      "source": [
        "tf.random.shuffle(a)"
      ],
      "execution_count": null,
      "outputs": [
        {
          "output_type": "execute_result",
          "data": {
            "text/plain": [
              "<tf.Tensor: shape=(4, 5), dtype=int64, numpy=\n",
              "array([[ 5,  6,  7,  8,  9],\n",
              "       [15, 16, 17, 18, 19],\n",
              "       [10, 11, 12, 13, 14],\n",
              "       [ 0,  1,  2,  3,  4]])>"
            ]
          },
          "metadata": {
            "tags": []
          },
          "execution_count": 36
        }
      ]
    }
  ]
}